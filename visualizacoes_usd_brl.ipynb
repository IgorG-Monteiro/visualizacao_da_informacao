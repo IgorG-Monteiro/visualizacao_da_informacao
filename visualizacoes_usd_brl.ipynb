
{
 "cells": [
  {
   "cell_type": "code",
   "execution_count": null,
   "metadata": {},
   "outputs": [],
   "source": [
    "import pandas as pd\n",
    "import matplotlib.pyplot as plt\n",
    "import seaborn as sns\n",
    "\n",
    "# Carregar o dataset\n",
    "df = pd.read_csv('USD_BRL_hist.csv')\n",
    "df['Date'] = pd.to_datetime(df['Date'])\n",
    "df.sort_values('Date', inplace=True)"
   ]
  },
  {
   "cell_type": "code",
   "execution_count": null,
   "metadata": {},
   "outputs": [],
   "source": [
    "# 1. Evolução temporal da cotação (linha do tempo)\n",
    "plt.figure(figsize=(12, 6))\n",
    "plt.plot(df['Date'], df['Close'], label='Fechamento', color='blue')\n",
    "plt.title('Cotação de Fechamento do USD/BRL ao longo do tempo')\n",
    "plt.xlabel('Data')\n",
    "plt.ylabel('Valor em BRL')\n",
    "plt.grid(True)\n",
    "plt.legend()\n",
    "plt.tight_layout()\n",
    "plt.show()"
   ]
  },
  {
   "cell_type": "code",
   "execution_count": null,
   "metadata": {},
   "outputs": [],
   "source": [
    "# 2. Variação diária (gráfico de dispersão com cor por volume)\n",
    "df['Variação'] = df['Close'] - df['Open']\n",
    "\n",
    "plt.figure(figsize=(12, 6))\n",
    "sns.scatterplot(x='Date', y='Variação', size='Volume', hue='Variação', data=df, palette='coolwarm', legend=False)\n",
    "plt.title('Variação Diária do USD/BRL com Volume')\n",
    "plt.xlabel('Data')\n",
    "plt.ylabel('Variação (Fechamento - Abertura)')\n",
    "plt.axhline(0, color='gray', linestyle='--')\n",
    "plt.tight_layout()\n",
    "plt.show()"
   ]
  },
  {
   "cell_type": "code",
   "execution_count": null,
   "metadata": {},
   "outputs": [],
   "source": [
    "# 3. Boxplot por ano (distribuição estatística)\n",
    "df['Ano'] = df['Date'].dt.year\n",
    "\n",
    "plt.figure(figsize=(12, 6))\n",
    "sns.boxplot(x='Ano', y='Close', data=df)\n",
    "plt.title('Distribuição da Cotação de Fechamento por Ano (USD/BRL)')\n",
    "plt.xlabel('Ano')\n",
    "plt.ylabel('Valor de Fechamento (BRL)')\n",
    "plt.tight_layout()\n",
    "plt.show()"
   ]
  }
 ],
 "metadata": {
  "kernelspec": {
   "display_name": "Python 3",
   "language": "python",
   "name": "python3"
  },
  "language_info": {
   "name": "python",
   "version": ""
  }
 },
 "nbformat": 4,
 "nbformat_minor": 5
}
